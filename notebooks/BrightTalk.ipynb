{
 "cells": [
  {
   "cell_type": "markdown",
   "metadata": {},
   "source": [
    "#(Easy) High performance text processing in Machine Learning*\n",
    "\n",
    "#ML meetup\n",
    "##*Joint work with Ian Langmore\n"
   ]
  },
  {
   "cell_type": "markdown",
   "metadata": {},
   "source": [
    "#[Rosetta*](https://github.com/columbia-applied-data-science/rosetta) \n",
    "###(*created with Ian Langmore; contributors include Matt DeLand, Thomas Nyberg, et al)\n",
    "\n",
    "##Tools for data science with a focus on text processing.\n",
    "\n",
    "* Focuses on \"medium data\", i.e. data too big to fit into memory but too small to necessitate the use of a cluster.\n",
    "* Integrates with existing scientific Python stack as well as select outside tools.\n",
    "\n",
    "## Tools and utilities \n",
    "\n",
    "### `cmd` \n",
    "* Unix-like command line utilities.  Filters (read from stdin/write to stdout) for files\n",
    "\n",
    "### `parallel` \n",
    "* Wrappers for Python multiprocessing that add ease of use\n",
    "* Memory-friendly multiprocessing\n",
    "\n",
    "### `text`\n",
    "* Stream text from disk to formats used in common ML processes\n",
    "    * file, database, and generic streamers\n",
    "* Write processed text to sparse formats\n",
    "* Helpers for ML tools (e.g. Vowpal Wabbit, Gensim, etc...)\n",
    "* Other general utilities\n",
    "\n",
    "### `workflow`\n",
    "* High-level wrappers that have helped with our workflow and provide additional examples of code use\n",
    "\n",
    "### `modeling`\n",
    "* General ML modeling utilities\n"
   ]
  },
  {
   "cell_type": "markdown",
   "metadata": {},
   "source": [
    "#Lets begin"
   ]
  },
  {
   "cell_type": "markdown",
   "metadata": {},
   "source": [
    "###for the purpose of this tutorial we will be working with a collection of about 1000 declassified government embassy cables\n",
    "* you can replace the data with any top-directory of text files or you really want this particular data set feel free to email me and I'll send \"Declassification Engine\" REST API documentation\n"
   ]
  },
  {
   "cell_type": "code",
   "execution_count": 5,
   "metadata": {},
   "outputs": [],
   "source": [
    "import os\n",
    "import pandas as pd"
   ]
  },
  {
   "cell_type": "markdown",
   "metadata": {},
   "source": [
    "#Text Processors"
   ]
  },
  {
   "cell_type": "markdown",
   "metadata": {},
   "source": [
    "##Streamers\n",
    "* Data in many text processing problems comes in the form of \n",
    "    * flat files\n",
    "    * repeated calls to an DB or API\n",
    "    * some 'online' stream\n",
    "* A lot of these can be handled streaming the data either from disk, DB, API minimizing CPU use\n",
    "* In addition, a lot of streaming is embarassingly parallel so can be easily scaled\n"
   ]
  },
  {
   "cell_type": "code",
   "execution_count": 6,
   "metadata": {},
   "outputs": [],
   "source": [
    "#all you realy need to know is that CABLES is the directory where the data (or cables)\n",
    "#are stored on your machine\n",
    "DATA = os.environ['DATA']\n",
    "CABLES = os.path.join(DATA, 'declass', 'cables_short')\n",
    "RAW = os.path.join(CABLES, 'raw')\n",
    "PROCESSED = os.path.join(CABLES, 'processed')\n",
    "SPARSE = os.path.join(CABLES, 'sparse')\n",
    "\n",
    "sfile_path = os.path.join(SPARSE, 'cables-short.vw')\n",
    "filtered_sfile_path = os.path.join(PROCESSED, 'cables-short-filtered.vw')\n",
    "sff_path = os.path.join(PROCESSED, 'sff.pkl')"
   ]
  },
  {
   "cell_type": "markdown",
   "metadata": {},
   "source": [
    "## Streaming: given a collection of objects streaming is the paradigm of processing these objects one at a time in memory, extracting relevant information, writing the information, and discarding the original object \n",
    "\n",
    "###Note: after a streaming process is complete, the original collection should no longer be needed for the analysis at hand"
   ]
  },
  {
   "cell_type": "markdown",
   "metadata": {},
   "source": [
    "* Lets write a simple file streamer"
   ]
  },
  {
   "cell_type": "code",
   "execution_count": 7,
   "metadata": {},
   "outputs": [],
   "source": [
    "#filefilter is a module which helps with basic file/dir functions, such as\n",
    "#retrieving all paths from a given directory and it's subdir's\n",
    "from rosetta.text import filefilter"
   ]
  },
  {
   "cell_type": "code",
   "execution_count": 8,
   "metadata": {},
   "outputs": [],
   "source": [
    "def simple_file_streamer(base_path):\n",
    "    paths = filefilter.get_paths(base_path, get_iter=True)\n",
    "    for p in paths:\n",
    "        with open(p) as f:\n",
    "            text = f.read()\n",
    "            yield(text)"
   ]
  },
  {
   "cell_type": "markdown",
   "metadata": {},
   "source": [
    "###In case you haven't worked much with iterators explicitely, here is a small refresher... \n",
    "* For those familiar with generator functions, or iterators, you'll notice that this is exactly what we mean by \"streamer,\" i.e. anything that retrieves files or extracts information from therein and has a .next() method\n",
    "* python docs have a short intro about generators (http://docs.python.org/2/tutorial/classes.html#generators)"
   ]
  },
  {
   "cell_type": "code",
   "execution_count": 9,
   "metadata": {},
   "outputs": [],
   "source": [
    "def my_iter(N):\n",
    "    i=0\n",
    "    while True:\n",
    "        if i == N:\n",
    "            raise StopIteration\n",
    "        else:\n",
    "            yield i\n",
    "        i += 1\n",
    "                \n",
    "        "
   ]
  },
  {
   "cell_type": "code",
   "execution_count": 10,
   "metadata": {},
   "outputs": [],
   "source": [
    "mi = my_iter(5)\n",
    "\n"
   ]
  },
  {
   "cell_type": "code",
   "execution_count": 11,
   "metadata": {
    "collapsed": true
   },
   "outputs": [
    {
     "data": {
      "text/plain": [
       "0"
      ]
     },
     "execution_count": 11,
     "metadata": {},
     "output_type": "execute_result"
    }
   ],
   "source": [
    "mi.next()"
   ]
  },
  {
   "cell_type": "code",
   "execution_count": 12,
   "metadata": {},
   "outputs": [
    {
     "name": "stdout",
     "output_type": "stream",
     "text": [
      "0\n",
      "1\n",
      "2\n",
      "3\n",
      "4\n"
     ]
    }
   ],
   "source": [
    "#note the raised StopIteration; lets see how a for look handles this\n",
    "\n",
    "for i in my_iter(5):\n",
    "    print i\n",
    "    "
   ]
  },
  {
   "cell_type": "markdown",
   "metadata": {},
   "source": [
    "###so even if you have not thought about iterators, you have been using them throughout \n",
    "###now back to our streamer"
   ]
  },
  {
   "cell_type": "code",
   "execution_count": 13,
   "metadata": {},
   "outputs": [],
   "source": [
    "simple_stream = simple_file_streamer(RAW)"
   ]
  },
  {
   "cell_type": "code",
   "execution_count": 14,
   "metadata": {},
   "outputs": [
    {
     "data": {
      "text/plain": [
       "generator"
      ]
     },
     "execution_count": 14,
     "metadata": {},
     "output_type": "execute_result"
    }
   ],
   "source": [
    "#lets look at what this object is\n",
    "type(simple_stream)"
   ]
  },
  {
   "cell_type": "markdown",
   "metadata": {},
   "source": [
    "###Note: this is the first time anything is read into memory"
   ]
  },
  {
   "cell_type": "code",
   "execution_count": 15,
   "metadata": {},
   "outputs": [
    {
     "data": {
      "text/plain": [
       "['UNCLASSIFIED',\n",
       " '',\n",
       " 'PAGE 01        ACCRA  01284  091110Z',\n",
       " 'ACTION OCS-06',\n",
       " '',\n",
       " 'INFO  OCT-00   ADS-00   AF-10    AMAD-01  CA-01    /018 W',\n",
       " '                    ------------------203337  091121Z /38',\n",
       " 'O 081104Z FEB 73',\n",
       " 'FM AMEMBASSY ACCRA',\n",
       " 'TO AMEMBASSY MONROVIA IMMEDIATE',\n",
       " 'INFO SECSTATE WASHDC 4185',\n",
       " 'AMEMBASSY ABIDJAN',\n",
       " '',\n",
       " 'UNCLAS ACCRA 01284',\n",
       " '',\n",
       " 'E.O. 12356: N/A',\n",
       " 'TAGS: CASC (AKINS, ESTHER)',\n",
       " 'SUBJ: WELFARE/WHEREABOUTS: ESTHER AKINS',\n",
       " '',\n",
       " 'REF: MONROVIA 01199 (NOTAL)',\n",
       " '',\n",
       " '1. MS. AKINS LAST REGISTERED WITH THE EMBASSY ON MARCH 23,',\n",
       " '1981.  SHE LATER REPORTED SHE WAS DUE TO LEAVE GHANA ON',\n",
       " 'MARCH 2, 1982.',\n",
       " '',\n",
       " '2. ATTEMPTS TO REACH HER BY PHONE THROUGH THE INSTITUTE',\n",
       " 'OF LINGUISTICS, HER CONTACT ADDRESS AT THE TIME OF HER',\n",
       " '1981-82 STAY IN GHANA AND OTHER MISSIONARIES HAS PROVED',\n",
       " 'UNSUCCESSFUL.  THE SOURCE OF LIGHT MISSION IS NOT, RPT NOT,',\n",
       " 'KNOWN TO US.',\n",
       " '',\n",
       " '3. WE WILL MAKE ADDITIONAL EFFORTS TO LOCATE MS. AKINS,',\n",
       " 'AND WILL INFORM YOU IF WE HAVE ANY SUCCESS, BUT ADDITIONAL',\n",
       " 'CONTACT ADDRESSES FOR HER WOULD BE HELPFUL. WRIGHT',\n",
       " '',\n",
       " '',\n",
       " '',\n",
       " '',\n",
       " '',\n",
       " '',\n",
       " '',\n",
       " 'UNCLASSIFIED',\n",
       " '',\n",
       " '',\n",
       " '',\n",
       " '',\n",
       " '',\n",
       " '',\n",
       " '',\n",
       " '',\n",
       " '',\n",
       " '',\n",
       " 'NNN']"
      ]
     },
     "execution_count": 15,
     "metadata": {},
     "output_type": "execute_result"
    }
   ],
   "source": [
    "#lets see what the .next() yields (and splitlines to make it more readable)\n",
    "simple_stream.next().splitlines()"
   ]
  },
  {
   "cell_type": "markdown",
   "metadata": {},
   "source": [
    "\n",
    "* Now since our end goal is to build a topic model we probably want to have a more fexible streamer, i.e. one that can return file ids, text or tokens (based on some predefined tokenizer)\n",
    "    * luckily we have one such streamer written"
   ]
  },
  {
   "cell_type": "code",
   "execution_count": 16,
   "metadata": {},
   "outputs": [],
   "source": [
    "from rosetta import TextFileStreamer, TokenizerBasic\n",
    "text_streamer = TextFileStreamer(text_base_path=RAW, file_type='*', \n",
    "                                           tokenizer=TokenizerBasic())\n"
   ]
  },
  {
   "cell_type": "code",
   "execution_count": 17,
   "metadata": {},
   "outputs": [],
   "source": [
    "from rosetta.text import streamers"
   ]
  },
  {
   "cell_type": "code",
   "execution_count": 18,
   "metadata": {},
   "outputs": [],
   "source": [
    "stream = text_streamer.info_stream()"
   ]
  },
  {
   "cell_type": "code",
   "execution_count": 20,
   "metadata": {
    "collapsed": true
   },
   "outputs": [
    {
     "data": {
      "text/plain": [
       "{'atime': 1399823974.0,\n",
       " 'cached_path': '/Users/danielkrasner/DATA_master/prod/declass/cables_short/raw/1976YAOUND00800',\n",
       " 'doc_id': '1976YAOUND00800',\n",
       " 'mtime': 1383854248.0,\n",
       " 'size': 475,\n",
       " 'text': 'UNCLASSIFIED\\n\\nPAGE 01  YAOUND 00800  030654Z\\n\\n20\\nACTION CU-04\\n\\nINFO  OCT-01  AF-06  ISO-00  USIA-15  /026 W\\n                       ---------------------     100150\\nR 021600Z MAR 76\\nFM AMEMBASSY YAOUNDE\\nTO SECSTATE WASHDC 7937\\n\\nUNCLAS YAOUNDE 0800\\n\\nFOR CU/AF\\n\\nE.O. 11652: N/A\\nTAGS: OEXC EIV ETRD\\nSUBJ: MULTI-REGIONAL PROJECT ON INTERNATIONAL INVESTMENT,\\n       MARCH 21 TO APRIL 19, 1976\\n\\nREF: STATE 044439\\n\\nPOST REGRETS UNABLE NOMINATE CANDIDATE.\\nSPIRO\\n\\n\\nUNCLASSIFIED\\n\\n\\n\\n\\nNNN',\n",
       " 'tokens': ['unclassified',\n",
       "  'page',\n",
       "  'yaound',\n",
       "  'action',\n",
       "  'cu',\n",
       "  'info',\n",
       "  'oct',\n",
       "  'af',\n",
       "  'iso',\n",
       "  'usia',\n",
       "  'mar',\n",
       "  'fm',\n",
       "  'amembassy',\n",
       "  'yaounde',\n",
       "  'secstate',\n",
       "  'washdc',\n",
       "  'unclas',\n",
       "  'yaounde',\n",
       "  'e.o',\n",
       "  'tags',\n",
       "  'oexc',\n",
       "  'eiv',\n",
       "  'etrd',\n",
       "  'subj',\n",
       "  'multi',\n",
       "  'regional',\n",
       "  'project',\n",
       "  'international',\n",
       "  'investment',\n",
       "  'march',\n",
       "  'april',\n",
       "  'ref',\n",
       "  'state',\n",
       "  'post',\n",
       "  'regrets',\n",
       "  'unable',\n",
       "  'nominate',\n",
       "  'candidate',\n",
       "  'spiro',\n",
       "  'unclassified',\n",
       "  'nnn']}"
      ]
     },
     "execution_count": 20,
     "metadata": {},
     "output_type": "execute_result"
    }
   ],
   "source": [
    "stream.next()"
   ]
  },
  {
   "cell_type": "markdown",
   "metadata": {},
   "source": [
    "* Note: you can pass a tokenizer function to TextFileStreamer(), i.e. any function that takes a string of text and returns a list of strings (the \"tokens\")\n",
    "    * We have written a basic tokenizer function and class to add functionality and because the nltk.word_tokenize() was slow\n",
    "* It also has a few other nice options such as shuffle, file_type, etc and a bunch of methods"
   ]
  },
  {
   "cell_type": "code",
   "execution_count": 26,
   "metadata": {},
   "outputs": [],
   "source": [
    "text = stream.next()['text']"
   ]
  },
  {
   "cell_type": "code",
   "execution_count": 27,
   "metadata": {
    "collapsed": true
   },
   "outputs": [
    {
     "name": "stdout",
     "output_type": "stream",
     "text": [
      "UNCLASSIFIED\n",
      "\n",
      "PAGE 01  ZAGREB 00018  121152Z\n",
      "\n",
      "44\n",
      "ACTION VOE-00\n",
      "\n",
      "INFO  OCT-01  ISO-00  /001 W\n",
      "                       ---------------------     058313\n",
      "R 081530Z JAN 76\n",
      "FM AMCONSUL ZAGREB\n",
      "TO SECSTATE WASHDC 3529\n",
      "\n",
      "UNCLAS ZAGREB 0018\n",
      "\n",
      "E.O. 11652:  N/A\n",
      "TAGS:  CVIS  YO\n",
      "SUBJECT:  FS-258, DEC. 1975\n",
      "\n",
      "1. PLEASE CORRECT FS-258 DEC. 1975.  FIVE IR-5 ISSUED, INSTEAD\n",
      "OF THREE AS REPORTED.  THAT CHANGES THE TOTAL TO 32 INSTEAD OF\n",
      "30.  KAISER\n",
      "\n",
      "\n",
      "UNCLASSIFIED\n",
      "\n",
      "\n",
      "\n",
      "\n",
      "NNN\n"
     ]
    }
   ],
   "source": [
    "print text"
   ]
  },
  {
   "cell_type": "code",
   "execution_count": 28,
   "metadata": {},
   "outputs": [
    {
     "data": {
      "text/plain": [
       "['unclassified',\n",
       " 'page',\n",
       " 'zagreb',\n",
       " 'action',\n",
       " 'voe',\n",
       " 'info',\n",
       " 'oct',\n",
       " 'iso',\n",
       " 'jan',\n",
       " 'fm',\n",
       " 'amconsul',\n",
       " 'zagreb',\n",
       " 'secstate',\n",
       " 'washdc',\n",
       " 'unclas',\n",
       " 'zagreb',\n",
       " 'e.o',\n",
       " 'tags',\n",
       " 'cvis',\n",
       " 'yo',\n",
       " 'subject',\n",
       " 'fs',\n",
       " 'dec',\n",
       " 'please',\n",
       " 'correct',\n",
       " 'fs',\n",
       " 'dec',\n",
       " 'five',\n",
       " 'ir',\n",
       " 'issued',\n",
       " 'instead',\n",
       " 'three',\n",
       " 'reported',\n",
       " 'changes',\n",
       " 'total',\n",
       " 'instead',\n",
       " 'kaiser',\n",
       " 'unclassified',\n",
       " 'nnn']"
      ]
     },
     "execution_count": 28,
     "metadata": {},
     "output_type": "execute_result"
    }
   ],
   "source": [
    "text_streamer.tokenizer.text_to_token_list(text)\n",
    "#text_streamer.tokenizer.text_to_counter(text)"
   ]
  },
  {
   "cell_type": "code",
   "execution_count": 41,
   "metadata": {},
   "outputs": [],
   "source": [
    "#lets look at a few methods\n",
    "token_stream = text_streamer.token_stream() # returns a generator function which yields a stream of tokens"
   ]
  },
  {
   "cell_type": "code",
   "execution_count": 42,
   "metadata": {},
   "outputs": [
    {
     "data": {
      "text/plain": [
       "['unclassified',\n",
       " 'page',\n",
       " 'zagreb',\n",
       " 'action',\n",
       " 'scse',\n",
       " 'info',\n",
       " 'oct',\n",
       " 'iso',\n",
       " 'oct',\n",
       " 'fm']"
      ]
     },
     "execution_count": 42,
     "metadata": {},
     "output_type": "execute_result"
    }
   ],
   "source": [
    "token_stream.next()[:10] # this is what our basic tokenizer returns (we are skipping stop words and numerics by default)"
   ]
  },
  {
   "cell_type": "markdown",
   "metadata": {},
   "source": [
    "text_streamer.doc_id # returns a list of retrieved doc ids etc \n"
   ]
  },
  {
   "cell_type": "code",
   "execution_count": 43,
   "metadata": {},
   "outputs": [],
   "source": [
    "#if you want to use another tokenizer it's easy\n",
    "import nltk\n",
    "nltk.word_tokenize(text)\n",
    "text_streamer_nltk = TextFileStreamer(text_base_path=RAW, file_type='*', \n",
    "                                      tokenizer_func=nltk.word_tokenize)"
   ]
  },
  {
   "cell_type": "code",
   "execution_count": 44,
   "metadata": {},
   "outputs": [],
   "source": [
    "stream_nltk = text_streamer_nltk.token_stream()"
   ]
  },
  {
   "cell_type": "code",
   "execution_count": 45,
   "metadata": {
    "collapsed": true
   },
   "outputs": [
    {
     "data": {
      "text/plain": [
       "['CONFIDENTIAL',\n",
       " 'PAGE',\n",
       " '01',\n",
       " 'ZANZIB',\n",
       " '00033',\n",
       " '091100Z',\n",
       " '44',\n",
       " 'ACTION',\n",
       " 'AF-06',\n",
       " 'INFO']"
      ]
     },
     "execution_count": 45,
     "metadata": {},
     "output_type": "execute_result"
    }
   ],
   "source": [
    "stream_nltk.next()[:10]"
   ]
  },
  {
   "cell_type": "markdown",
   "metadata": {},
   "source": [
    "#Vowpal Wabbit for LDA Topic Modeling\n",
    "* LDA = Latent Dirichlet Allocation \n",
    "    * treats each document as a bag of words \n",
    "    * a topic is chosen from a topic distribution $p(k)$ where $k=1, \\dots , K$\n",
    "    * a word is chosen from the k'th topic distribution $p(w|k)$ and thrown into the bag\n",
    "    * distrubutions $p(k)$ depends on $\\theta$ ~ $Dir(\\alpha)$ and $p(w|k)$ depends on $\\beta$ a $k\\times V$ matrix of word probabilties\n",
    "        * these 'latent' variables are chosen to maximize the probability of producing the observed documents, and in turn depend on user chosen parameters $\\alpha$ and $\\eta$ \n",
    "    * the model produces two important probability distributions:\n",
    "        * $p(w|k)$, the probability of $w$ bring generated by topic $k$ and\n",
    "        * $p(k|d)$, the probabilty of topic $k$ being used to generate a randomly chosen word from document $d$ \n",
    "    * these topic and word weights can be used to understand the semantic structure of the documents as well as generate document feature\n",
    "    * for more details about LDA topic modeling see the wonderful Blei, Ng, and Jordan [paper](http://www.cs.princeton.edu/~blei/papers/BleiNgJordan2003.pdf)\n",
    "* Vowpal Wabbit\n",
    "    * optimized (very fast) C++ library http://hunch.net/~vw/\n",
    "    * can find tutorials at https://github.com/JohnLangford/vowpal_wabbit/wiki/Tutorial and \n",
    "    https://github.com/columbia-applied-data-science/rosetta/blob/master/examples/vw_helpers.md\n",
    "    \n",
    "\n",
    "\n"
   ]
  },
  {
   "cell_type": "code",
   "execution_count": 46,
   "metadata": {},
   "outputs": [],
   "source": [
    "from rosetta.text import text_processors, filefilter, streamers, vw_helpers"
   ]
  },
  {
   "cell_type": "code",
   "execution_count": 47,
   "metadata": {},
   "outputs": [],
   "source": [
    "#create the VW format file \n",
    "my_tokenizer = text_processors.TokenizerBasic()\n",
    "stream = streamers.TextFileStreamer(text_base_path=RAW, tokenizer=my_tokenizer)\n",
    "stream.to_vw(sfile_path, n_jobs=-1, raise_on_bad_id=False)"
   ]
  },
  {
   "cell_type": "code",
   "execution_count": null,
   "metadata": {},
   "outputs": [],
   "source": [
    "### somewhere here run (stick with 5 passes or so...)\n",
    "# rm -f *cache\n",
    "#vw --lda 20 --cache_file doc_tokens.cache --passes 5 -p prediction.dat --readable_model topics.dat --bit_precision 16 --lda_D 975 --lda_rho 0.1 --lda_alpha 1 ../sparse/cables-short.vw\n"
   ]
  },
  {
   "cell_type": "code",
   "execution_count": 48,
   "metadata": {},
   "outputs": [],
   "source": [
    "#load the sparse file \n",
    "formatter = text_processors.VWFormatter()\n",
    "sff = text_processors.SFileFilter(formatter)\n",
    "sff.load_sfile(sfile_path)"
   ]
  },
  {
   "cell_type": "code",
   "execution_count": 49,
   "metadata": {},
   "outputs": [
    {
     "name": "stdout",
     "output_type": "stream",
     "text": [
      "Compactification done.  self.bit_precision_required = 14\n",
      "collisions = 0, vocab_size = 14476\n",
      "All collisions resolved\n"
     ]
    }
   ],
   "source": [
    "#remove \"gaps\" in the sequence of numbers (ids)\n",
    "sff.compactify()\n",
    "sff.save(PROCESSED + '/sff_basic.pkl')"
   ]
  },
  {
   "cell_type": "code",
   "execution_count": 52,
   "metadata": {},
   "outputs": [
    {
     "data": {
      "text/html": [
       "<div style=\"max-height:1000px;max-width:1500px;overflow:auto;\">\n",
       "<table border=\"1\" class=\"dataframe\">\n",
       "  <thead>\n",
       "    <tr style=\"text-align: right;\">\n",
       "      <th></th>\n",
       "      <th>doc_freq</th>\n",
       "      <th>token_score</th>\n",
       "      <th>doc_fraction</th>\n",
       "    </tr>\n",
       "    <tr>\n",
       "      <th>token</th>\n",
       "      <th></th>\n",
       "      <th></th>\n",
       "      <th></th>\n",
       "    </tr>\n",
       "  </thead>\n",
       "  <tbody>\n",
       "    <tr>\n",
       "      <th>fm</th>\n",
       "      <td> 829</td>\n",
       "      <td>  845</td>\n",
       "      <td> 0.849385</td>\n",
       "    </tr>\n",
       "    <tr>\n",
       "      <th>page</th>\n",
       "      <td> 829</td>\n",
       "      <td> 1325</td>\n",
       "      <td> 0.849385</td>\n",
       "    </tr>\n",
       "    <tr>\n",
       "      <th>action</th>\n",
       "      <td> 829</td>\n",
       "      <td>  907</td>\n",
       "      <td> 0.849385</td>\n",
       "    </tr>\n",
       "    <tr>\n",
       "      <th>info</th>\n",
       "      <td> 829</td>\n",
       "      <td> 1432</td>\n",
       "      <td> 0.849385</td>\n",
       "    </tr>\n",
       "    <tr>\n",
       "      <th>oct</th>\n",
       "      <td> 829</td>\n",
       "      <td>  973</td>\n",
       "      <td> 0.849385</td>\n",
       "    </tr>\n",
       "    <tr>\n",
       "      <th>iso</th>\n",
       "      <td> 828</td>\n",
       "      <td>  852</td>\n",
       "      <td> 0.848361</td>\n",
       "    </tr>\n",
       "    <tr>\n",
       "      <th>secstate</th>\n",
       "      <td> 827</td>\n",
       "      <td>  854</td>\n",
       "      <td> 0.847336</td>\n",
       "    </tr>\n",
       "    <tr>\n",
       "      <th>washdc</th>\n",
       "      <td> 824</td>\n",
       "      <td>  907</td>\n",
       "      <td> 0.844262</td>\n",
       "    </tr>\n",
       "    <tr>\n",
       "      <th>nnn</th>\n",
       "      <td> 819</td>\n",
       "      <td>  830</td>\n",
       "      <td> 0.839139</td>\n",
       "    </tr>\n",
       "    <tr>\n",
       "      <th>tags</th>\n",
       "      <td> 782</td>\n",
       "      <td>  785</td>\n",
       "      <td> 0.801230</td>\n",
       "    </tr>\n",
       "  </tbody>\n",
       "</table>\n",
       "<p>10 rows × 3 columns</p>\n",
       "</div>"
      ],
      "text/plain": [
       "          doc_freq  token_score  doc_fraction\n",
       "token                                        \n",
       "fm             829          845      0.849385\n",
       "page           829         1325      0.849385\n",
       "action         829          907      0.849385\n",
       "info           829         1432      0.849385\n",
       "oct            829          973      0.849385\n",
       "iso            828          852      0.848361\n",
       "secstate       827          854      0.847336\n",
       "washdc         824          907      0.844262\n",
       "nnn            819          830      0.839139\n",
       "tags           782          785      0.801230\n",
       "\n",
       "[10 rows x 3 columns]"
      ]
     },
     "execution_count": 52,
     "metadata": {},
     "output_type": "execute_result"
    }
   ],
   "source": [
    "sff.to_frame().sort_index(by='doc_fraction', ascending=False).head(10)"
   ]
  },
  {
   "cell_type": "markdown",
   "metadata": {},
   "source": [
    "## Look at LDA results"
   ]
  },
  {
   "cell_type": "code",
   "execution_count": 53,
   "metadata": {},
   "outputs": [],
   "source": [
    "#use the LDAResults class from rosetta to convert back to readable, python friendly formats\n",
    "lda = vw_helpers.LDAResults(PROCESSED + '/topics.dat', \n",
    "                            PROCESSED + '/prediction.dat', PROCESSED + '/sff_basic.pkl')"
   ]
  },
  {
   "cell_type": "code",
   "execution_count": 54,
   "metadata": {},
   "outputs": [
    {
     "data": {
      "text/html": [
       "<div style=\"max-height:1000px;max-width:1500px;overflow:auto;\">\n",
       "<table border=\"1\" class=\"dataframe\">\n",
       "  <thead>\n",
       "    <tr style=\"text-align: right;\">\n",
       "      <th></th>\n",
       "      <th>doc_freq</th>\n",
       "      <th>token_score</th>\n",
       "      <th>doc_fraction</th>\n",
       "    </tr>\n",
       "    <tr>\n",
       "      <th>token</th>\n",
       "      <th></th>\n",
       "      <th></th>\n",
       "      <th></th>\n",
       "    </tr>\n",
       "  </thead>\n",
       "  <tbody>\n",
       "    <tr>\n",
       "      <th>woulb</th>\n",
       "      <td>  1</td>\n",
       "      <td>  1</td>\n",
       "      <td> 0.001025</td>\n",
       "    </tr>\n",
       "    <tr>\n",
       "      <th>rescheduling</th>\n",
       "      <td>  1</td>\n",
       "      <td>  1</td>\n",
       "      <td> 0.001025</td>\n",
       "    </tr>\n",
       "    <tr>\n",
       "      <th>inherent</th>\n",
       "      <td>  1</td>\n",
       "      <td>  1</td>\n",
       "      <td> 0.001025</td>\n",
       "    </tr>\n",
       "    <tr>\n",
       "      <th>wise</th>\n",
       "      <td>  1</td>\n",
       "      <td>  1</td>\n",
       "      <td> 0.001025</td>\n",
       "    </tr>\n",
       "    <tr>\n",
       "      <th>flags</th>\n",
       "      <td>  1</td>\n",
       "      <td>  1</td>\n",
       "      <td> 0.001025</td>\n",
       "    </tr>\n",
       "    <tr>\n",
       "      <th>ekstrom</th>\n",
       "      <td>  2</td>\n",
       "      <td>  2</td>\n",
       "      <td> 0.002049</td>\n",
       "    </tr>\n",
       "    <tr>\n",
       "      <th>letting</th>\n",
       "      <td>  1</td>\n",
       "      <td>  1</td>\n",
       "      <td> 0.001025</td>\n",
       "    </tr>\n",
       "    <tr>\n",
       "      <th>consultation</th>\n",
       "      <td> 14</td>\n",
       "      <td> 17</td>\n",
       "      <td> 0.014344</td>\n",
       "    </tr>\n",
       "    <tr>\n",
       "      <th>miles</th>\n",
       "      <td>  2</td>\n",
       "      <td>  2</td>\n",
       "      <td> 0.002049</td>\n",
       "    </tr>\n",
       "    <tr>\n",
       "      <th>frontmen</th>\n",
       "      <td>  1</td>\n",
       "      <td>  1</td>\n",
       "      <td> 0.001025</td>\n",
       "    </tr>\n",
       "  </tbody>\n",
       "</table>\n",
       "<p>10 rows × 3 columns</p>\n",
       "</div>"
      ],
      "text/plain": [
       "              doc_freq  token_score  doc_fraction\n",
       "token                                            \n",
       "woulb                1            1      0.001025\n",
       "rescheduling         1            1      0.001025\n",
       "inherent             1            1      0.001025\n",
       "wise                 1            1      0.001025\n",
       "flags                1            1      0.001025\n",
       "ekstrom              2            2      0.002049\n",
       "letting              1            1      0.001025\n",
       "consultation        14           17      0.014344\n",
       "miles                2            2      0.002049\n",
       "frontmen             1            1      0.001025\n",
       "\n",
       "[10 rows x 3 columns]"
      ]
     },
     "execution_count": 54,
     "metadata": {},
     "output_type": "execute_result"
    }
   ],
   "source": [
    "#look at some of the words\n",
    "topic_words = lda.pr_token_g_topic.loc[:,'topic_12'].order(ascending=False).index[:10]\n",
    "lda.sfile_frame.loc[topic_words]"
   ]
  },
  {
   "cell_type": "code",
   "execution_count": 75,
   "metadata": {},
   "outputs": [
    {
     "data": {
      "text/plain": [
       "token\n",
       "racunskih     0.020413\n",
       "png'ing       0.019496\n",
       "redirect      0.001991\n",
       "perkovic      0.001038\n",
       "investors     0.000777\n",
       "generous      0.000718\n",
       "rectifying    0.000718\n",
       "libyans       0.000718\n",
       "horvat        0.000718\n",
       "foregoing     0.000718\n",
       "Name: topic_00, dtype: float64"
      ]
     },
     "execution_count": 75,
     "metadata": {},
     "output_type": "execute_result"
    }
   ],
   "source": [
    "#look at the the first topic\n",
    "a_topic = lda.pr_token_g_topic.T.loc['topic_00'].copy()\n",
    "a_topic.sort(ascending=False)\n",
    "a_topic[:10]"
   ]
  },
  {
   "cell_type": "code",
   "execution_count": 81,
   "metadata": {},
   "outputs": [
    {
     "data": {
      "text/plain": [
       "<matplotlib.axes.AxesSubplot at 0x10e30fed0>"
      ]
     },
     "execution_count": 81,
     "metadata": {},
     "output_type": "execute_result"
    },
    {
     "data": {
      "image/png": "[encoded data removed]",
      "text/plain": [
       "<matplotlib.figure.Figure at 0x10edfba10>"
      ]
     },
     "metadata": {
      "image/png": {
       "height": 536,
       "width": 702
      }
     },
     "output_type": "display_data"
    }
   ],
   "source": [
    "##\n",
    "lda.pr_topic_g_doc.T.loc[[0]].plot(kind='bar', figsize=(12,7),\n",
    "                                   title = 'First Document Topic Weights')"
   ]
  },
  {
   "cell_type": "code",
   "execution_count": 82,
   "metadata": {},
   "outputs": [
    {
     "data": {
      "text/plain": [
       "<matplotlib.axes.AxesSubplot at 0x10e38ee10>"
      ]
     },
     "execution_count": 82,
     "metadata": {},
     "output_type": "execute_result"
    },
    {
     "data": {
      "image/png": "[encoded data removed]",
      "text/plain": [
       "<matplotlib.figure.Figure at 0x10e37bfd0>"
      ]
     },
     "metadata": {
      "image/png": {
       "height": 465,
       "width": 708
      }
     },
     "output_type": "display_data"
    }
   ],
   "source": [
    "#or at the average topic probabilties \n",
    "import random\n",
    "r = lambda: random.randint(0,255)\n",
    "my_colors = ['#%02X%02X%02X' % (r(),r(),r()) for i in range(20)]\n",
    "#my_colors = 'rgbkymc'\n",
    "lda.pr_topic_g_doc.mean(axis=1).plot(kind='bar', figsize=(12,7), color=my_colors,\n",
    "                                     title='Average Topic Probabilities')"
   ]
  },
  {
   "cell_type": "markdown",
   "metadata": {},
   "source": [
    "##You can grab a copy of this [notebook](https://github.com/columbia-applied-data-science/rosetta/tree/master/notebooks) in the [Rosetta repo](https://github.com/columbia-applied-data-science/rosetta). "
   ]
  },
  {
   "cell_type": "markdown",
   "metadata": {},
   "source": [
    "\n",
    "\n",
    "##[Declassification Engine](declassification-engine.org)\n",
    "    * https://github.com/declassengine/declass\n",
    "    * email if interested in participating\n",
    "    \n",
    "##[Rosetta](https://github.com/columbia-applied-data-science/rosetta)\n",
    "    *Install, fork, submnit issues, contribute!\n",
    "\n",
    "\n",
    "\n",
    "\n",
    "\n",
    "\n"
   ]
  },
  {
   "cell_type": "markdown",
   "metadata": {},
   "source": [
    "#Have fun!\n"
   ]
  },
  {
   "cell_type": "markdown",
   "metadata": {},
   "source": [
    "\n",
    "#contact: daniel@kfitsolutions.com"
   ]
  }
 ],
 "metadata": {
  "kernelspec": {
   "display_name": "Python 3",
   "language": "python",
   "name": "python3"
  },
  "language_info": {
   "codemirror_mode": {
    "name": "ipython",
    "version": 3
   },
   "file_extension": ".py",
   "mimetype": "text/x-python",
   "name": "python",
   "nbconvert_exporter": "python",
   "pygments_lexer": "ipython3",
   "version": "3.6.5"
  }
 },
 "nbformat": 4,
 "nbformat_minor": 1
}
